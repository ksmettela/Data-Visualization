{
 "cells": [
  {
   "cell_type": "markdown",
   "metadata": {},
   "source": [
    "# Assignment 1: Dino Fun World\n",
    "\n",
    "### Assignment Description\n",
    "\n",
    "You, in your role as a data explorer and visualizer, have been asked by the administrators of a small amusement park in your hometown to answer a few questions about their park operations. The dataset that they provided for you to perform the requested analysis includes the movement and communication data captured from the park attendees' apps during one weekend (Friday, Saturday, and Sunday).\n",
    "\n",
    "The administrators would like you to answer four relatively simple questions about the park activities on the day in question. These questions all deal with park operations and can be answered using the data provided.\n",
    "* **Question 1:** What is the most popular attraction to visit in the park?\n",
    "\n",
    "\n",
    "* **Question 2:** What ride (note that not all attractions are rides) has the longest average visit time?\n",
    "\n",
    "\n",
    "* **Question 3:** Which Fast Food offering has the fewest visitors?\n",
    "\n",
    "\n",
    "* **Question 4:** Compute the Skyline of number of visits and visit time for the park's ride, and report the rides that appear in the Skyline. (Note: Your answer should be three points, which can be given in any order.)\n",
    "\n",
    "\n",
    "### Directions\n",
    "\n",
    "The database provided by the park administration is formatted to be readable by any SQL database library. The course staff recommends the sqlite3 library. The database contains three tables, named 'checkin', 'attractions', and 'sequences'. The database file is named 'dinofunworld.db' .\n",
    "\n",
    "The information contained in each of these tables is listed below:\n",
    "\n",
    "`checkin`:\n",
    "    - The check-in data for all visitors for the day in the park. The data includes two types of check-ins: inferred and actual checkins.\n",
    "    - Fields: visitorID, timestamp, attraction, duration, type\n",
    "\n",
    "`attraction`:\n",
    "    - The attractions in the park by their corresponding AttractionID, Name, Region, Category, and type. Regions are from the VAST Challenge map such as Coaster Alley, Tundra Land, etc. Categories include Thrill rides, Kiddie Rides, etc. Type is broken into Outdoor Coaster, Other Ride, Carousel, etc.\n",
    "    - Fields: AttractionID, Name, Region, Category, type\n",
    "    \n",
    "`sequences`:\n",
    "    - The check-in sequences of visitors. These sequences list the position of each visitor to the park every five minutes. If the visitor has not entered the part yet, the sequence has a value of 0 for that time interval. If the visitor is in the park, the sequence lists the attraction they have most recently checked in to until they check in to a new one or leave the park.\n",
    "    - Fields: visitorID, sequence\n",
    "    \n",
    "Using the provided data, answer the four questions that the administrators have asked.\n",
    "\n",
    "### Submission Directions for Assignment Deliverables\n",
    "\n",
    "This assignment will be auto-graded. We recommend that you submit this assignment. In order for your answers to be correctly registered in the system, you must place the code for your answers in the cell indicated for each question. In addition, you should submit the assignment with the output of the code in the cell's display area. The display area should contain only your answer to the question with no extraneous information, or else the answer may not be picked up correctly. \n",
    "\n",
    "Each cell that is going to be graded has a set of comment lines at the beginning of the cell. These lines are extremely important and must not be modified or removed. \n",
    "\n",
    "Please execute each cell in Jupyter Notebook before submitting.\n",
    "\n",
    "\n"
   ]
  },
  {
   "cell_type": "markdown",
   "metadata": {},
   "source": [
    "### Question 1: \n",
    "What is the most popular attraction to visit in the park?\n",
    "\n",
    "**Note:** Your output should be the name of the attraction."
   ]
  },
  {
   "cell_type": "code",
   "execution_count": 1,
   "metadata": {
    "scrolled": false
   },
   "outputs": [
    {
     "name": "stdout",
     "output_type": "stream",
     "text": [
      "Atmosfear\n"
     ]
    }
   ],
   "source": [
    "# your code here for Q1\n",
    "import sqlite3\n",
    "import pandas as pd\n",
    "\n",
    "# Establishing connection to database\n",
    "db_con = sqlite3.connect(\"dinofunworld.db\")\n",
    "# Setting up the cursor to access values of the table\n",
    "pointer = db_con.cursor()\n",
    "# Querying the checkin table to get attraction count\n",
    "pointer.execute(\"SELECT attraction, count(*) FROM checkin GROUP BY attraction\")\n",
    "att_count = pointer.fetchall()\n",
    "# Building the dataframe with columns attraction and count\n",
    "att_count = pd.DataFrame(att_count, columns = ['attractionid', 'count'])\n",
    "# Fetches the row of the max count value\n",
    "att_count_max = att_count.loc[att_count['count'].idxmax()]\n",
    "att_id = att_count_max['attractionid']\n",
    "pointer.execute(\"SELECT AttractionID, Name FROM attraction\")\n",
    "\n",
    "att_name = pointer.fetchall()\n",
    "# iterating throught the list formed to find popular attraction to visit in the park\n",
    "for id, name in att_name:\n",
    "    if id==att_id:\n",
    "        print(name)\n",
    "        \n",
    "# Close the connection\n",
    "db_con.close()"
   ]
  },
  {
   "cell_type": "markdown",
   "metadata": {},
   "source": [
    "### Question 2: \n",
    "\n",
    "What ride (note that not all attractions are rides) has the  longest average visit time?\n",
    "\n",
    "**Note:** Your output should be the name of the ride.\n"
   ]
  },
  {
   "cell_type": "code",
   "execution_count": 2,
   "metadata": {},
   "outputs": [
    {
     "name": "stdout",
     "output_type": "stream",
     "text": [
      "Flight of the Swingodon\n"
     ]
    }
   ],
   "source": [
    "# your code here for Q2\n",
    "import sqlite3\n",
    "from datetime import timedelta\n",
    "\n",
    "# Connect to the database\n",
    "db_con = sqlite3.connect('dinofunworld.db')\n",
    "# Setting up the cursor to access values of the table\n",
    "pointer = db_con.cursor()\n",
    "\n",
    "# Get the AttractionID of the rides from the 'attractions' table\n",
    "pointer.execute(\"SELECT AttractionID FROM attraction WHERE Category={0} OR Category={1} OR Category={2}\".format(\"'Thrill Rides\\r'\", \"'Kiddie Rides\\r'\", \"'Rides for Everyone\\r'\"))\n",
    "list_ride = [i[0] for i in pointer.fetchall()]\n",
    "\n",
    "# Iterate over each i and calculate the average duration\n",
    "ride_map = list()\n",
    "for i in list_ride:\n",
    "    ride_time = 0.0\n",
    "    count = 0\n",
    "    # Getting the duration of the rides from checkin table\n",
    "    pointer.execute(\"SELECT duration FROM checkin WHERE attraction={0}\".format(i))\n",
    "    # iterating through the durations list\n",
    "    for duration in pointer.fetchall():\n",
    "        try:\n",
    "            # Convert the duration string to seconds and add to the total i duration\n",
    "            ride_time += timedelta(int(duration[0].split(':')[0]), int(duration[0].split(':')[1]), int(duration[0].split(':')[2])).total_seconds()\n",
    "            count += 1\n",
    "        except (ValueError, AttributeError) as e:\n",
    "            pass\n",
    "        #Mapping the duration to the i\n",
    "    ride_map.append([i, ride_time / count])\n",
    "\n",
    "# Get the name of the i with the longest average visit time\n",
    "pointer.execute(\"SELECT Name FROM attraction WHERE AttractionID={0}\".format(max(ride_map, key=lambda item:item[1])[0]))\n",
    "\n",
    "# Fetch and print the result\n",
    "res = pointer.fetchone()\n",
    "print(res[0])\n",
    "\n",
    "# Close the connection\n",
    "db_con.close()"
   ]
  },
  {
   "cell_type": "markdown",
   "metadata": {},
   "source": [
    "### Question 3:\n",
    "\n",
    "Which Fast Food offering in the park has the fewest visitors?\n",
    "\n",
    "**Note:** Your output should be the name of the fast food offering."
   ]
  },
  {
   "cell_type": "code",
   "execution_count": 3,
   "metadata": {},
   "outputs": [
    {
     "name": "stdout",
     "output_type": "stream",
     "text": [
      "Theresaur Food Stop\n"
     ]
    }
   ],
   "source": [
    "# your code here for Q3\n",
    "import sqlite3\n",
    "import pandas as pd\n",
    "# Establishing connection to database\n",
    "db_con = sqlite3.connect(\"dinofunworld.db\")\n",
    "# Setting up the cursor to access values of the table\n",
    "pointer = db_con.cursor()\n",
    "# Querying the attraction table to get attractionid, name and type\n",
    "pointer.execute(\"SELECT AttractionID, Name, type FROM attraction\")\n",
    "# Creating dataframe for the list \n",
    "att_df =  pd.DataFrame(pointer.fetchall(), columns = ['attractionid','name','type'])\n",
    "# finding out the ids which has tyoe as \"Fast food\"\n",
    "fast_food_df = att_df.loc[att_df['type']=='Fast Food']\n",
    "# Executing the query by grouping attraction in checkin table\n",
    "pointer.execute(\"SELECT attraction,count(*) FROM checkin GROUP BY attraction\")\n",
    "# creating dataframe of the list having attractionid and their count\n",
    "att_count = pd.DataFrame(pointer.fetchall(), columns = ['attractionid','count'])\n",
    "merger_df = pd.merge(fast_food_df, att_count, left_on = 'attractionid', right_on = 'attractionid', how = 'inner').drop('attractionid', axis = 1)\n",
    "#finding the min value in the column count\n",
    "min_count=merger_df.loc[merger_df['count'].idxmin()]\n",
    "print(min_count['name'])\n",
    "# Close the connection\n",
    "db_con.close()"
   ]
  },
  {
   "cell_type": "markdown",
   "metadata": {},
   "source": [
    "### Question 4:\n",
    "\n",
    "Compute the Skyline of number of visits and visit time for the park's ride and report the rides that appear in the Skyline. \n",
    "\n",
    "**Note:** Remember that in this case, higher visits is better and lower visit times are better. Your output should be formatted as a list of names of the rides in the Skyline. Your output should be three points, which can be given in any order(example output : ['Ride 1','Ride 2','Ride 3'] )\n"
   ]
  },
  {
   "cell_type": "code",
   "execution_count": 4,
   "metadata": {},
   "outputs": [
    {
     "name": "stdout",
     "output_type": "stream",
     "text": [
      "['Wrightiraptor Mountain', 'Atmosfear', 'Dykesadactyl Thrill']\n"
     ]
    }
   ],
   "source": [
    "# your code here for Q4\n",
    "from datetime import timedelta\n",
    "\n",
    "# Connect to the database\n",
    "db_con = sqlite3.connect('dinofunworld.db')\n",
    "# Setting up the pointer to access values of the table\n",
    "pointer = db_con.cursor()\n",
    "\n",
    "# Get the AttractionID of the rides from the 'attractions' table\n",
    "pointer.execute(\"SELECT AttractionID FROM attraction WHERE Category={0} OR Category={1} OR Category={2}\".format(\"'Thrill Rides\\r'\", \"'Kiddie Rides\\r'\", \"'Rides for Everyone\\r'\"))\n",
    "list_ride = [i[0] for i in pointer.fetchall()]\n",
    "\n",
    "# Create a dictionary to store the average duration and number of visits for each i\n",
    "ride_map = dict()\n",
    "# iterating the dictonary\n",
    "for i in list_ride:\n",
    "    ride_time = 0.0\n",
    "    count = 0.0\n",
    "    # Getting the duration of the rides from checkin table\n",
    "    pointer.execute(\"SELECT duration FROM checkin WHERE attraction={0}\".format(i))\n",
    "    for duration in pointer.fetchall():\n",
    "        try:\n",
    "            # Convert the duration string to seconds and add to the total i duration\n",
    "            ride_time += timedelta(hours=int(duration[0].split(':')[0]), minutes=int(duration[0].split(':')[1]), seconds=int(duration[0].split(':')[2])).total_seconds()\n",
    "            count += 1\n",
    "        except (ValueError, AttributeError) as e:\n",
    "            pass\n",
    "    ride_map[i] = list()\n",
    "    ride_map[i].append(ride_time / count)\n",
    "    # Getting the total count from the checkin table for the given i\n",
    "    pointer.execute(\"SELECT count(*) FROM checkin WHERE attraction={0}\".format(i))\n",
    "    ride_map[i].append(pointer.fetchall()[0][0])\n",
    "\n",
    "# Compute the Skyline of the rides\n",
    "rideV = 1\n",
    "rideW = 1\n",
    "rideB = 1\n",
    "\n",
    "# Iterating the dictonary for the condition \n",
    "for i in ride_map:\n",
    "    if ride_map[i][0] < ride_map[rideW][0]:\n",
    "        rideW = i\n",
    "    if ride_map[i][1] > ride_map[rideV][1]:\n",
    "        rideV = i\n",
    "    if (ride_map[i][0] < ride_map[rideB][0]) and (ride_map[i][1] > ride_map[rideB][1]):\n",
    "        rideB = i\n",
    "\n",
    "# Get the names of the rides in the Skyline\n",
    "pointer.execute(\"SELECT Name FROM attraction WHERE AttractionID={0} OR AttractionID={1} OR AttractionID={2}\".format(rideV, rideW, rideB))\n",
    "# Fetching the table\n",
    "names = pointer.fetchall()\n",
    "print([name[0] for name in names])\n",
    "\n",
    "# Close the connection\n",
    "db_con.close()\n"
   ]
  },
  {
   "cell_type": "code",
   "execution_count": null,
   "metadata": {},
   "outputs": [],
   "source": []
  }
 ],
 "metadata": {
  "kernelspec": {
   "display_name": "Python 3 (ipykernel)",
   "language": "python",
   "name": "python3"
  },
  "language_info": {
   "codemirror_mode": {
    "name": "ipython",
    "version": 3
   },
   "file_extension": ".py",
   "mimetype": "text/x-python",
   "name": "python",
   "nbconvert_exporter": "python",
   "pygments_lexer": "ipython3",
   "version": "3.9.13"
  }
 },
 "nbformat": 4,
 "nbformat_minor": 2
}
